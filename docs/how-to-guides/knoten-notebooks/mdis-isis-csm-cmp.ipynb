{
 "cells": [
  {
   "cell_type": "markdown",
   "metadata": {},
   "source": [
    "# Comparing various values from ISIS and USGSCSM cameras for a Messenger MDIS NAC PDS3 image"
   ]
  },
  {
   "cell_type": "code",
   "execution_count": 1,
   "metadata": {},
   "outputs": [],
   "source": [
    "import os\n",
    "os.environ['ISISROOT'] = '/usr/local/Caskroom/miniconda/base/envs/isis-prod'\n",
    "os.environ['ISISDATA'] = '/Volumes/usgs-data/isis-data'\n",
    "import urllib.request\n",
    "\n",
    "import ale\n",
    "from ale.drivers.mess_drivers import MessengerMdisPds3NaifSpiceDriver\n",
    "from ale.formatters.usgscsm_formatter import to_usgscsm\n",
    "import ale.isd_generate\n",
    "import json\n",
    "import os\n",
    "import kalasiris as isis\n",
    "import pvl\n",
    "import numpy as np\n",
    "import knoten\n",
    "import csmapi\n",
    "from knoten import csm\n",
    "\n",
    "ale.spice_root = '/Volumes/usgs-data/spice-data'"
   ]
  },
  {
   "cell_type": "code",
   "execution_count": 2,
   "metadata": {},
   "outputs": [],
   "source": [
    "# https://pdsimage2.wr.usgs.gov/Messenger/MSGRMDS_1001/DATA/2015_114/\n",
    "# https://d3fhgbbgskqro0.cloudfront.net/MSGRMDS_1001/DATA/2015_114/EN1072174528M.IMG\n",
    "\n",
    "imgurl = 'https://d3fhgbbgskqro0.cloudfront.net/MSGRMDS_1001/DATA/2015_114/EN1072174528M.IMG'\n",
    "image_dir = 'data'\n",
    "mess_img = os.path.join(image_dir, 'EN1072174528M.IMG')\n",
    "downloader = urllib.request.URLopener()\n",
    "if not os.path.isfile(mess_img):\n",
    "    downloader.retrieve(imgurl, mess_img)"
   ]
  },
  {
   "cell_type": "code",
   "execution_count": 3,
   "metadata": {},
   "outputs": [
    {
     "name": "stderr",
     "output_type": "stream",
     "text": [
      "/usr/local/Caskroom/miniconda/base/envs/knoten/lib/python3.12/site-packages/osgeo/gdal.py:312: FutureWarning: Neither gdal.UseExceptions() nor gdal.DontUseExceptions() has been explicitly called. In GDAL 4.0, exceptions will be enabled by default.\n",
      "  warnings.warn(\n"
     ]
    }
   ],
   "source": [
    "driver = MessengerMdisPds3NaifSpiceDriver(mess_img)\n",
    "\n",
    "with driver as d:\n",
    "    ale_position = d.sensor_position[0]\n",
    "    ale_dict = ale.formatters.formatter.to_isd(d)"
   ]
  },
  {
   "cell_type": "code",
   "execution_count": 4,
   "metadata": {},
   "outputs": [
    {
     "name": "stdout",
     "output_type": "stream",
     "text": [
      "CONSTRUCTED CAMERA\n"
     ]
    }
   ],
   "source": [
    "# Constructs a camera model using usgscsm\n",
    "model=\"USGS_ASTRO_FRAME_SENSOR_MODEL\"  # Make sure this matches your camera model\n",
    "plugin = csmapi.Plugin.getList()[0]\n",
    "isd = csmapi.Isd(mess_img)\n",
    "warns = csmapi.WarningList()\n",
    "if plugin.canModelBeConstructedFromISD(isd, model, warns):\n",
    "    print(\"CONSTRUCTED CAMERA\")\n",
    "    camera = plugin.constructModelFromISD(isd, model)\n",
    "else:\n",
    "    print(\"CAN'T CONSTRUCT CAMERA\")\n",
    "    for item in warns:\n",
    "        print(item.getMessage())"
   ]
  },
  {
   "cell_type": "code",
   "execution_count": 5,
   "metadata": {},
   "outputs": [
    {
     "data": {
      "text/plain": [
       "CompletedProcess(args=['spiceinit', 'from=data/EN1072174528M.cub', 'shape=ellipsoid'], returncode=0, stdout='Group = Kernels\\n  NaifIkCode                = -236820\\n  LeapSecond                = $base/kernels/lsk/naif0012.tls\\n  TargetAttitudeShape       = $messenger/kernels/pck/pck00010_msgr_v23.tpc\\n  TargetPosition            = $messenger/kernels/tspk/de423s.bsp\\n  InstrumentPointing        = ($messenger/kernels/ck/msgr_1504_v01.bc,\\n                               $messenger/kernels/ck/msgr_mdis_sc040812_150430-\\n                               v1.bc,\\n                               $messenger/kernels/ck/msgr_mdis_gm040819_150430-\\n                               v1.bc, $messenger/kernels/fk/msgr_v231.tf)\\n  Instrument                = $messenger/kernels/ik/msgr_mdis_v160.ti\\n  SpacecraftClock           = $messenger/kernels/sclk/messenger_2548.tsc\\n  InstrumentPosition        = $messenger/kernels/spk/msgr_20040803_20150430_o-\\n                              d431sc_2.bsp\\n  InstrumentAddendum        = $messenger/kernels/iak/mdisAddendum009.ti\\n  ShapeModel                = Null\\n  InstrumentPositionQuality = Reconstructed\\n  InstrumentPointingQuality = Reconstructed\\n  CameraVersion             = 2\\n  Source                    = isis\\nEnd_Group\\n', stderr='')"
      ]
     },
     "execution_count": 5,
     "metadata": {},
     "output_type": "execute_result"
    }
   ],
   "source": [
    "# Ingest image and spiceinit it\n",
    "cube = os.path.splitext(mess_img)[0] + '.cub'\n",
    "isis.mdis2isis(mess_img, to=cube)\n",
    "isis.spiceinit(cube, shape='ellipsoid')"
   ]
  },
  {
   "cell_type": "code",
   "execution_count": 6,
   "metadata": {},
   "outputs": [],
   "source": [
    "# Grab campt output on spiceinit'd cube\n",
    "\n",
    "mess_lbl_file = os.path.splitext(mess_img)[0] + '.lbl'\n",
    "\n",
    "if os.path.isfile(mess_lbl_file): # Delete if exists already\n",
    "    os.remove(mess_lbl_file)\n",
    "\n",
    "output = isis.campt(cube, to=mess_lbl_file)\n",
    "\n",
    "with open(mess_lbl_file) as file:\n",
    "    mess_pvl_str = file.read()"
   ]
  },
  {
   "cell_type": "code",
   "execution_count": 7,
   "metadata": {},
   "outputs": [],
   "source": [
    "# and load it as a pvl\n",
    "pvl_output = pvl.loads(mess_pvl_str)"
   ]
  },
  {
   "cell_type": "code",
   "execution_count": 8,
   "metadata": {},
   "outputs": [
    {
     "data": {
      "text/plain": [
       "array([-166.86240809,   31.73164436,  -31.46452873])"
      ]
     },
     "execution_count": 8,
     "metadata": {},
     "output_type": "execute_result"
    }
   ],
   "source": [
    "# Grab body fixed coordinates from campt pvl output\n",
    "campt_bodyfixed = pvl_output['GroundPoint']['BodyFixedCoordinate']\n",
    "campt_bodyfixed = np.asarray(campt_bodyfixed.value) * 1000\n",
    "\n",
    "# Grab body fixed coordinates from csm\n",
    "ale_bodyfixed = csm.generate_ground_point(0, (256 - .5, 256 - .5), camera)\n",
    "ale_bodyfixed = np.array([ale_bodyfixed.x, ale_bodyfixed.y, ale_bodyfixed.z])\n",
    "\n",
    "# Compare the two body fixed coordinates\n",
    "ale_bodyfixed - campt_bodyfixed"
   ]
  },
  {
   "cell_type": "code",
   "execution_count": 9,
   "metadata": {},
   "outputs": [
    {
     "data": {
      "text/plain": [
       "array([[-160.95373014, -404.73483791,  456.13296515]])"
      ]
     },
     "execution_count": 9,
     "metadata": {},
     "output_type": "execute_result"
    }
   ],
   "source": [
    "# Grab spacecraft position from campt pvl output\n",
    "campt_position = pvl_output['GroundPoint']['SpacecraftPosition']\n",
    "campt_position = np.asarray(campt_position.value) * 1000 # km to meters\n",
    "\n",
    "# Compare the two positions\n",
    "ale_position - campt_position"
   ]
  },
  {
   "cell_type": "code",
   "execution_count": 11,
   "metadata": {},
   "outputs": [],
   "source": [
    "# Grab InstrumentPosition table from the isis cube using tabledump\n",
    "instrument_pos_table = str(isis.tabledump(from_=cube, name='InstrumentPosition').stdout)\n",
    "parsed_string = instrument_pos_table.split(',')"
   ]
  },
  {
   "cell_type": "code",
   "execution_count": 12,
   "metadata": {},
   "outputs": [
    {
     "data": {
      "text/plain": [
       "array([[ 0.47149248, -0.2471164 ,  0.33823364]])"
      ]
     },
     "execution_count": 12,
     "metadata": {},
     "output_type": "execute_result"
    }
   ],
   "source": [
    "# Grab sensor position from the table dump output\n",
    "isis_j2000_pos = np.asarray([float(parsed_string[6][3:]), float(parsed_string[7]), float(parsed_string[8])])\n",
    "\n",
    "# Grab ALE's sensor position\n",
    "# ale_j2000_pos = np.asarray(j2000RotationPos)\n",
    "ale_j2000_pos = ale_dict['instrument_position']['positions']\n",
    "\n",
    "# Compare the two sensor positions that are in the j2000 reference frame\n",
    "ale_j2000_pos - isis_j2000_pos"
   ]
  },
  {
   "cell_type": "code",
   "execution_count": 13,
   "metadata": {},
   "outputs": [
    {
     "data": {
      "text/plain": [
       "array([[-0.00138282,  0.00029637,  0.00021793]])"
      ]
     },
     "execution_count": 13,
     "metadata": {},
     "output_type": "execute_result"
    }
   ],
   "source": [
    "# Grab velocities from the table dump output\n",
    "isis_j2000_vel = np.asarray([float(parsed_string[9]), float(parsed_string[10]), float(parsed_string[11])])\n",
    "\n",
    "# Grab ALE's velocities\n",
    "ale_velocities = ale_dict['instrument_position']['velocities']\n",
    "ale_j2000_vel = np.asarray(ale_velocities)\n",
    "\n",
    "# Compare the two velocity lists that are in the j2000 reference frame\n",
    "ale_j2000_vel - isis_j2000_vel"
   ]
  },
  {
   "cell_type": "code",
   "execution_count": 14,
   "metadata": {},
   "outputs": [
    {
     "name": "stdout",
     "output_type": "stream",
     "text": [
      "[9.62932188e-06 8.28987816e-06 7.29129240e-06]\n",
      "[-160.95373014 -404.73483791  456.13296515]\n"
     ]
    }
   ],
   "source": [
    "# Grab spacecraft position and body fixed look vector from csm\n",
    "locus = camera.imageToRemoteImagingLocus(csmapi.ImageCoord(256 - .5, 256 - .5))\n",
    "csm_bodyfixedLV = np.asarray([locus.direction.x, locus.direction.y, locus.direction.z])\n",
    "csm_position = np.asarray([locus.point.x, locus.point.y, locus.point.z])\n",
    "\n",
    "# Grab spacecraft position and body fixed look vector from campt pvl output\n",
    "campt_bodyfixedLV = np.asarray(pvl_output['GroundPoint']['LookDirectionBodyFixed'])\n",
    "campt_position = pvl_output['GroundPoint']['SpacecraftPosition']\n",
    "campt_position = np.asarray(campt_position.value) * 1000 # km to m\n",
    "\n",
    "# Compute the differences\n",
    "print(csm_bodyfixedLV - campt_bodyfixedLV)\n",
    "print(csm_position - campt_position)"
   ]
  }
 ],
 "metadata": {
  "kernelspec": {
   "display_name": "Python 3",
   "language": "python",
   "name": "python3"
  },
  "language_info": {
   "codemirror_mode": {
    "name": "ipython",
    "version": 3
   },
   "file_extension": ".py",
   "mimetype": "text/x-python",
   "name": "python",
   "nbconvert_exporter": "python",
   "pygments_lexer": "ipython3",
   "version": "3.12.4"
  }
 },
 "nbformat": 4,
 "nbformat_minor": 2
}
