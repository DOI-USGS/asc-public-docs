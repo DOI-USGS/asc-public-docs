{
 "cells": [
  {
   "cell_type": "markdown",
   "metadata": {},
   "source": [
    "# CSM Sandbox\n",
    "\n",
    "## 1. Prerequisites\n",
    "\n",
    "### Install Knoten\n",
    "This tutorial requires Knoten version 0.4 or higher.\n",
    "\n",
    "`conda install -c conda-forge knoten=0.4`\n",
    "\n",
    "### Install Matplotlib\n",
    "This tutorial requires matplotlib, ipywidgets, and ipympl.\n",
    "\n",
    "`conda install -c conda-forge matplotlib ipywidgets ipympl`"
   ]
  },
  {
   "cell_type": "markdown",
   "metadata": {},
   "source": [
    "## Imports"
   ]
  },
  {
   "cell_type": "code",
   "execution_count": 6,
   "metadata": {},
   "outputs": [],
   "source": [
    "%matplotlib widget\n",
    "import os                   # File Path Joining\n",
    "import json                 # Read ISD as python dictionary\n",
    "import copy                 # Important to be able to modify the ISD\n",
    "\n",
    "from knoten import csm      # Knoten CSM\n",
    "\n",
    "import shapely.wkt          # Math and Plotting Tools\n",
    "import numpy as np\n",
    "import matplotlib.pyplot as plt\n",
    "import ipywidgets as widgets\n",
    "from ipywidgets import Layout as css"
   ]
  },
  {
   "cell_type": "markdown",
   "metadata": {},
   "source": [
    "## Create CSM Camera from existing ISD"
   ]
  },
  {
   "cell_type": "code",
   "execution_count": 2,
   "metadata": {},
   "outputs": [],
   "source": [
    "data_dir = '../data/image_to_ground'\n",
    "isd_file = os.path.join(data_dir, 'isd_file.json')"
   ]
  },
  {
   "cell_type": "markdown",
   "metadata": {},
   "source": [
    "### Methods for reading/printing stats"
   ]
  },
  {
   "cell_type": "code",
   "execution_count": 3,
   "metadata": {},
   "outputs": [],
   "source": [
    "def full_keys(dict, partial_key):\n",
    "    return [key for key,value in dict.items() if partial_key in key.lower()]\n",
    "\n",
    "def print_stats(dict, search_keys):\n",
    "    for search_key in search_keys:\n",
    "        full_key = full_keys(dict, search_key)[0]\n",
    "        print(f\"{full_key+\": \":<25}\" + str(dict[full_key]))\n",
    "\n",
    "def plot_footprint(lons, lats, aspect):\n",
    "    plt.close()\n",
    "    plt.rcParams[\"figure.figsize\"] = aspect\n",
    "    plt.axes().set_aspect('equal','datalim')\n",
    "    plt.plot(lons, lats)\n",
    "    plt.xlabel(\"Longitude (deg)\")\n",
    "    plt.ylabel(\"Latitude (deg)\")\n",
    "    plt.title(\"CSM footprint\")\n",
    "    plt.show()\n",
    "\n",
    "def plot_footprint_comparison(fp1, fp2, aspect):\n",
    "    plt.clf()\n",
    "    plt.rcParams[\"figure.figsize\"] = aspect\n",
    "    plt.axes().set_aspect('equal','datalim')\n",
    "    fp1_plot, = plt.plot(fp1[0], fp1[1], 'b')\n",
    "    \n",
    "    # boundaries centered on footprint 1\n",
    "    margin = 0.001\n",
    "    fp1_lim_x = plt.xlim()\n",
    "    fp1_lim_y = plt.ylim()\n",
    "    fp1_lim_x = (fp1_lim_x[0] - margin, fp1_lim_x[1] + margin)\n",
    "    fp1_lim_y = (fp1_lim_y[0] - margin, fp1_lim_y[1] + margin)\n",
    "\n",
    "    fp2_plot, = plt.plot(fp2[0], fp2[1], 'r')\n",
    "    plt.title(\"Original vs. Modified Footprint\")\n",
    "    plt.xlabel(\"Longitude (deg)\")\n",
    "    plt.ylabel(\"Latitude (deg)\")\n",
    "    fp1_plot.set_label(fp1[2])\n",
    "    fp2_plot.set_label(fp2[2])\n",
    "    plt.legend()\n",
    "    plt.xlim(fp1_lim_x)\n",
    "    plt.ylim(fp1_lim_y)\n",
    "    plt.show()"
   ]
  },
  {
   "cell_type": "markdown",
   "metadata": {},
   "source": [
    "### Stats/Footprint of original ISD"
   ]
  },
  {
   "cell_type": "code",
   "execution_count": 4,
   "metadata": {},
   "outputs": [
    {
     "name": "stdout",
     "output_type": "stream",
     "text": [
      "focal_length_model:      {'focal_length': 352.9271664}\n",
      "detector_center:         {'line': 0.430442527, 'sample': 2542.96099}\n",
      "optical_distortion:      {'radial': {'coefficients': [-0.0073433925920054505, 2.8375878636241697e-05, 1.2841989124027099e-08]}}\n"
     ]
    },
    {
     "data": {
      "image/png": "[encoded data removed]",
      "text/plain": [
       "<Figure size 500x100 with 1 Axes>"
      ]
     },
     "metadata": {},
     "output_type": "display_data"
    }
   ],
   "source": [
    "# Load Dict from JSON-style ISD File\n",
    "with open(isd_file) as json_file:\n",
    "    isd_dict = json.load(json_file)\n",
    "\n",
    "# Print selected values from ISD\n",
    "print_stats(isd_dict, ('focal_length_model', 'detector_center', 'optical_distortion'))\n",
    "\n",
    "# Create Camera Model\n",
    "camera = csm.create_csm(isd_file)\n",
    "\n",
    "# Get the footprint using the model\n",
    "boundary = csm.generate_boundary((isd_dict[\"image_lines\"], isd_dict[\"image_samples\"]))\n",
    "lons, lats, alts = csm.generate_latlon_boundary(camera, boundary)\n",
    "\n",
    "# Plot it\n",
    "plot_footprint(lons, lats, [5,1])"
   ]
  },
  {
   "cell_type": "markdown",
   "metadata": {},
   "source": [
    "### Modify ISD/write to file"
   ]
  },
  {
   "cell_type": "code",
   "execution_count": null,
   "metadata": {},
   "outputs": [
    {
     "data": {
      "application/vnd.jupyter.widget-view+json": {
       "model_id": "e2274228c2d34a618445f3fdbe2758da",
       "version_major": 2,
       "version_minor": 0
      },
      "text/plain": [
       "interactive(children=(FloatSlider(value=0.0, description='Focal Length', layout=Layout(width='600px'), max=0.2…"
      ]
     },
     "metadata": {},
     "output_type": "display_data"
    }
   ],
   "source": [
    "\n",
    "plt.close()\n",
    "\n",
    "wide_lay  = css(width='600px')\n",
    "wide_desc = {'description_width': '150px'}\n",
    "\n",
    "@widgets.interact(\n",
    "        fl_add=widgets.FloatSlider(min=-0.25, max=.25, step=0.001, description='Focal Length', layout=wide_lay, style=wide_desc), \n",
    "        dcl_add=widgets.FloatSlider(min=-4, max=4, step=0.05, description='Detector Center Line', layout=wide_lay, style=wide_desc),\n",
    "        dcs_add=widgets.FloatSlider(min=-2.5, max=2.5, step=0.02, description='Detector Center Sample', layout=wide_lay, style=wide_desc),\n",
    "        opt_x=widgets.FloatSlider(min=-0.001, max=0.001, step=0.00001, description='Optical Distortion X', layout=wide_lay, style=wide_desc, readout_format='.5f'),\n",
    "        opt_y=widgets.FloatSlider(min=-2e-6, max=2e-6, step=2e-8, description='Optical Distortion Y', layout=wide_lay, style=wide_desc, readout_format='.8f'),\n",
    "        opt_z=widgets.FloatSlider(min=-1e-8, max=1e-8, step=1e-10, description='Optical Distortion Z', layout=wide_lay, style=wide_desc, readout_format='.10f')\n",
    "    )\n",
    "def exec_widget_function(fl_add, dcl_add, dcs_add, opt_x, opt_y, opt_z):\n",
    "\n",
    "    new_values = {\n",
    "        'focal_length_model': {'focal_length': 352.9271664 + fl_add},\n",
    "        'detector_center':    {'line': 0.430442527 + dcl_add, 'sample': 2542.96099 + dcs_add},\n",
    "        'optical_distortion': {'radial': {'coefficients': [-0.007343 + opt_x, 2.838e-05 + opt_y, 1.284e-08 + opt_z]}}}\n",
    "\n",
    "    # Create new ISD Dictionary and modify values\n",
    "    isd_dict_mod = copy.deepcopy(isd_dict)\n",
    "    for key,value in new_values.items(): \n",
    "        isd_dict_mod[key] = new_values[key]\n",
    "\n",
    "    # Write ISD to file\n",
    "    isd_file_mod = os.path.join(data_dir, 'isd_file_mod.json')\n",
    "    with open(isd_file_mod, 'w') as json_file:\n",
    "        json.dump(isd_dict_mod, json_file, indent=4)\n",
    "\n",
    "    print_stats(isd_dict_mod, ('focal_length_model', 'detector_center', 'optical_distortion'))\n",
    "\n",
    "    # Create Camera Model\n",
    "    camera = csm.create_csm(isd_file_mod)\n",
    "\n",
    "    # Get the footprint using the model\n",
    "    boundary_mod = csm.generate_boundary((isd_dict_mod[\"image_lines\"], isd_dict_mod[\"image_samples\"]))\n",
    "    lons_mod, lats_mod, alts_mod = csm.generate_latlon_boundary(camera, boundary_mod)\n",
    "\n",
    "    # Plot it\n",
    "    plot_footprint_comparison((lons, lats, \"Original\"),(lons_mod, lats_mod, \"Modified\"), [7,3])"
   ]
  },
  {
   "cell_type": "code",
   "execution_count": null,
   "metadata": {},
   "outputs": [],
   "source": []
  }
 ],
 "metadata": {
  "kernelspec": {
   "display_name": "knoten",
   "language": "python",
   "name": "python3"
  },
  "language_info": {
   "codemirror_mode": {
    "name": "ipython",
    "version": 3
   },
   "file_extension": ".py",
   "mimetype": "text/x-python",
   "name": "python",
   "nbconvert_exporter": "python",
   "pygments_lexer": "ipython3",
   "version": "3.12.7"
  }
 },
 "nbformat": 4,
 "nbformat_minor": 2
}
