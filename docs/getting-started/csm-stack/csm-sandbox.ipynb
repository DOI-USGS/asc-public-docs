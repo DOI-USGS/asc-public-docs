{
 "cells": [
  {
   "cell_type": "markdown",
   "metadata": {},
   "source": [
    "# CSM Sandbox\n",
    "\n",
    "[Download This Notebook :octicons-file-code-16:](https://raw.githubusercontent.com/DOI-USGS/asc-public-docs/refs/heads/main/docs/getting-started/csm-stack/csm-sandbox.zip){ .md-button .md-button--primary }\n",
    "\n",
    "### Install Prerequisites\n",
    "```sh\n",
    "conda create -n csm-sandbox -c conda-forge knoten=0.4 notebook matplotlib ipywidgets 'ipympl>=0.9.6'\n",
    "conda activate csm-sandbox\n",
    "```\n",
    "\n",
    "??? warning \"ARM Compatibility Issues\"\n",
    "\n",
    "    ARM machines may have dependency issues, for now we recommend running in an x86 environment.\n",
    "\n",
    "    On ARM Macs, you can tell conda to create an x86 environment by prefixing your command with `CONDA_SUBDIR=osx-64`:\n",
    "\n",
    "        CONDA_SUBDIR=osx-64 conda create -n csm-sandbox -c conda-forge knoten=0.4 notebook matplotlib ipywidgets 'ipympl>=0.9.6'\n",
    "\n",
    "\n",
    "### Running the notebook on your computer\n",
    "\n",
    "This notebook has an interactive widget.\n",
    "\n",
    "To try it, [download](https://raw.githubusercontent.com/DOI-USGS/asc-public-docs/refs/heads/main/docs/getting-started/csm-stack/csm-sandbox.zip) it on your computer and unzip it.  In a terminal, `cd` into its folder.\n",
    "\n",
    "After installing the prerequisites as above, run `jupyter notebook` in that folder to open the notebook in your browser."
   ]
  },
  {
   "cell_type": "markdown",
   "metadata": {},
   "source": [
    "## Imports"
   ]
  },
  {
   "cell_type": "code",
   "execution_count": 6,
   "metadata": {},
   "outputs": [],
   "source": [
    "%matplotlib widget\n",
    "import os                           # File Path Joining\n",
    "import json                         # Read ISD as python dictionary\n",
    "import copy                         # Important to be able to modify the ISD\n",
    "\n",
    "from knoten import csm              # Knoten CSM\n",
    "\n",
    "import matplotlib.pyplot as plt     # Math and Plotting Tools\n",
    "import ipywidgets as widgets\n",
    "from ipywidgets import Layout"
   ]
  },
  {
   "cell_type": "code",
   "execution_count": 7,
   "metadata": {},
   "outputs": [
    {
     "data": {
      "text/html": [
       "<style>\n",
       "div.jupyter-widgets.widget-label {display: none;}\n",
       "</style>\n",
       "<!-- Styling for the plot/table below. -->\n"
      ],
      "text/plain": [
       "<IPython.core.display.HTML object>"
      ]
     },
     "metadata": {},
     "output_type": "display_data"
    }
   ],
   "source": [
    "%%html\n",
    "<style>\n",
    "div.jupyter-widgets.widget-label {display: none;}\n",
    "</style>\n",
    "<!-- Styling for the plot/table below. -->"
   ]
  },
  {
   "cell_type": "markdown",
   "metadata": {},
   "source": [
    "### Methods for reading/printing stats"
   ]
  },
  {
   "cell_type": "code",
   "execution_count": 8,
   "metadata": {},
   "outputs": [],
   "source": [
    "def print_stats(dict, search_keys):\n",
    "    for search_key in search_keys:\n",
    "        print(f\"{search_key+\": \":<25}\" + str(dict[search_key]))\n",
    "\n",
    "def plot_footprint(lons, lats, aspect):\n",
    "    plt.close()\n",
    "    plt.rcParams['figure.figsize'] = aspect\n",
    "    plt.axes().set_aspect('equal','datalim')\n",
    "    plt.plot(lons, lats)\n",
    "    plt.xlabel('Longitude (deg)')\n",
    "    plt.ylabel('Latitude (deg)')\n",
    "    plt.title('CSM footprint')\n",
    "    plt.show()\n",
    "\n",
    "def plot_footprint_comparison(fp1, fp2, aspect, dic_o, dic_n):\n",
    "    plt.clf()                                   # clear previous figure \n",
    "    \n",
    "    fp1_plot, = plt.plot(fp1[0], fp1[1], 'b')   # Plot footprint 1 in blue\n",
    "    fp2_plot, = plt.plot(fp2[0], fp2[1], 'r')       # Plot footprint 2 in red\n",
    "    \n",
    "    plt.title('Original vs. Modified Footprint')    # Title and axis labels\n",
    "    plt.xlabel('Longitude (deg)')\n",
    "    plt.ylabel('Latitude (deg)')\n",
    "    fp1_plot.set_label(fp1[2])  # Labels/Legend\n",
    "    fp2_plot.set_label(fp2[2])\n",
    "    plt.legend()\n",
    "    \n",
    "    plt.axis('equal') # Set equal scale on both axes so the original shape won't be distorted\n",
    "    plt.grid(color='#DDDDDD', linewidth=0.5) # Grid makes scale/transformation more visible\n",
    "\n",
    "    # Display Values\n",
    "    \n",
    "    o_foc_len = dic_o['focal_length_model']['focal_length']\n",
    "    o_det_cen = (dic_o['detector_center']['line'], dic_o['detector_center']['sample'])\n",
    "    o_disto = dic_o['optical_distortion']['radial']['coefficients']\n",
    "    o_eph_time = dic_o['center_ephemeris_time']\n",
    "    \n",
    "    n_foc_len = dic_n['focal_length_model']['focal_length']\n",
    "    n_det_cen = (dic_n['detector_center']['line'], dic_n['detector_center']['sample'])\n",
    "    n_disto = dic_n['optical_distortion']['radial']['coefficients']\n",
    "    n_eph_time = dic_n['center_ephemeris_time']\n",
    "    \n",
    "    text_labels = ('Focal Length: \\n' +\n",
    "        'Detector Center (L, S): \\n' +\n",
    "        'Radial Distortion: \\n' + \n",
    "        'Ephemeris Center Time: ')\n",
    "    old_values = (f'{o_foc_len:.0f} \\n' +\n",
    "        f'({o_det_cen[0]:.0f}, {o_det_cen[1]:.0f}) \\n' +\n",
    "        f'({o_disto[0]:.2f}, {o_disto[1]:.4f}, {o_disto[2]:.7f}) \\n' + \n",
    "        f'{o_eph_time:.1f}')\n",
    "    new_values = (f'→ {n_foc_len:.0f} \\n' +\n",
    "        f'→ ({n_det_cen[0]:.0f}, {n_det_cen[1]:.0f}) \\n' +\n",
    "        f'→ ({n_disto[0]:.2f}, {n_disto[1]:.4f}, {n_disto[2]:.7f}) \\n' + \n",
    "        f'→ {n_eph_time:.1f}')\n",
    "\n",
    "    plt.subplots_adjust(top=0.75)                         # Set Plot to bottom 3/4\n",
    "    plt.gcf().text(0.02, 0.85, text_labels, fontsize=10, color='black') # Put text on top\n",
    "    plt.gcf().text(0.3, 0.85, old_values, fontsize=10, color='blue') # Put text on top\n",
    "    plt.gcf().text(0.6, 0.85, new_values, fontsize=10, color='red') # Put text on top\n",
    "    \n",
    "    plt.show()                  # Show plot"
   ]
  },
  {
   "cell_type": "markdown",
   "metadata": {},
   "source": [
    "### Stats/Footprint of original ISD"
   ]
  },
  {
   "cell_type": "code",
   "execution_count": 9,
   "metadata": {},
   "outputs": [
    {
     "name": "stdout",
     "output_type": "stream",
     "text": [
      "focal_length_model:      {'focal_length': 352.9271664}\n",
      "detector_center:         {'line': 0.430442527, 'sample': 2542.96099}\n",
      "optical_distortion:      {'radial': {'coefficients': [-0.007343392592005451, 2.83758786362417e-05, 1.28419891240271e-08]}}\n",
      "center_ephemeris_time:   216723488.96431854\n"
     ]
    }
   ],
   "source": [
    "# Load Dict from JSON-style ISD File\n",
    "isd_file = 'csm-sandbox-isd-file.json'\n",
    "isd_file_mod = 'csm-sandbox-isd-file-mod.json'\n",
    "\n",
    "# The included ISD file in this example came from\n",
    "# the P01_001404_1722_XI_07S090W.IMG MRO CTX image.\n",
    "\n",
    "with open(isd_file) as json_file:\n",
    "    isd_dict = json.load(json_file)\n",
    "\n",
    "# Print selected values from ISD\n",
    "print_stats(isd_dict, ('focal_length_model', 'detector_center', 'optical_distortion', 'center_ephemeris_time'))\n",
    "\n",
    "# Create Camera Model\n",
    "camera = csm.create_csm(isd_file)\n",
    "\n",
    "# Get the footprint using the model\n",
    "boundary = csm.generate_boundary((isd_dict['image_lines'], isd_dict['image_samples']))\n",
    "lons, lats, alts = csm.generate_latlon_boundary(camera, boundary)\n",
    "\n",
    "# # This line can plot the footprint of the original ISD\n",
    "# plot_footprint(lons, lats, [5,1])"
   ]
  },
  {
   "cell_type": "markdown",
   "metadata": {},
   "source": [
    "### Modify ISD/write to file"
   ]
  },
  {
   "cell_type": "code",
   "execution_count": 11,
   "metadata": {},
   "outputs": [
    {
     "name": "stdout",
     "output_type": "stream",
     "text": [
      "Adjust Sliders to add or subtract from the values at the following ISD Keys.\n",
      "Note: \u001b[34mThe original blue footprint is staying in the same place.\u001b[0m\n",
      "\u001b[31mThe modifications to the ISD change the geometry of the new red footprint.\u001b[0m\n",
      "\n"
     ]
    },
    {
     "data": {
      "application/vnd.jupyter.widget-view+json": {
       "model_id": "9be401ac78b94ec0acf58eb457264637",
       "version_major": 2,
       "version_minor": 0
      },
      "text/plain": [
       "interactive(children=(FloatSlider(value=0.0, description='Focal Length', layout=Layout(width='600px'), max=250…"
      ]
     },
     "metadata": {},
     "output_type": "display_data"
    }
   ],
   "source": [
    "# clear the plot from any previous footprints/plots\n",
    "plt.close()\n",
    "\n",
    "# Copy the ISD Dictionary, we will modify it and compare to the original.\n",
    "isd_dict_mod = copy.deepcopy(isd_dict)\n",
    "\n",
    "print('Adjust Sliders to add or subtract from the values at the following ISD Keys.')\n",
    "print('Note: \\033[34mThe original blue footprint is staying in the same place.\\033[0m')\n",
    "print('\\033[31mThe modifications to the ISD change the geometry of the new red footprint.\\033[0m')\n",
    "print()\n",
    "\n",
    "# Slider Widgets\n",
    "wide_lay  = Layout(width='600px')\n",
    "wide_desc = {'description_width': '150px'}\n",
    "@widgets.interact(\n",
    "        fl_add=widgets.FloatSlider(min=-250, max=250, step=1, description='Focal Length', layout=wide_lay, style=wide_desc, readout_format='.0f'), \n",
    "        dcl_add=widgets.FloatSlider(min=-4000, max=4000, step=50, description='Detector Center Line', layout=wide_lay, style=wide_desc, readout_format='.0f'),\n",
    "        dcs_add=widgets.FloatSlider(min=-4000, max=4000, step=50, description='Detector Center Sample', layout=wide_lay, style=wide_desc, readout_format='.0f'),\n",
    "        opt_x=widgets.FloatSlider(min=-1, max=1, step=0.01, description='Optical Distortion X', layout=wide_lay, style=wide_desc, readout_format='.2f'),\n",
    "        opt_y=widgets.FloatSlider(min=-0.003, max=0.003, step=0.0001, description='Optical Distortion Y', layout=wide_lay, style=wide_desc, readout_format='.4f'),\n",
    "        opt_z=widgets.FloatSlider(min=-1e-5, max=1e-5, step=1e-7, description='Optical Distortion Z', layout=wide_lay, style=wide_desc, readout_format='.7f'),\n",
    "        ect_add=widgets.FloatSlider(min=-20, max=20, step=0.1, description='Exposure (Center) Time', layout=wide_lay, style=wide_desc, readout_format='.1f')\n",
    "    )\n",
    "# This function executed whenever one of the slider widgets is adjusted\n",
    "def exec_widget_function(fl_add, dcl_add, dcs_add, opt_x, opt_y, opt_z, ect_add):\n",
    "\n",
    "    # Note: print() statements within this function may cause flickering.\n",
    "    #       Try writing something on the plot instead if you need output.\n",
    "    \n",
    "    # If you're curious where the ISD values came from, \n",
    "    # Detector Center was from NAIF Boresight Line/Sample\n",
    "    # Optical Distortion was from NAIF OD_K\n",
    "    # ISIS uses the NAIF Keywords, but Knoten CSM uses other derived ISD values.\n",
    "\n",
    "    old_fl = isd_dict['focal_length_model']['focal_length']\n",
    "    old_dcl = isd_dict['detector_center']['line']\n",
    "    old_dcs = isd_dict['detector_center']['sample']\n",
    "    old_odx = isd_dict['optical_distortion']['radial']['coefficients'][0]\n",
    "    old_ody = isd_dict['optical_distortion']['radial']['coefficients'][1]\n",
    "    old_odz = isd_dict['optical_distortion']['radial']['coefficients'][2]\n",
    "    old_ect = isd_dict['center_ephemeris_time']\n",
    "    \n",
    "    new_values = {\n",
    "        'focal_length_model': {'focal_length': old_fl + fl_add},\n",
    "        'detector_center':    {'line': old_dcl + dcl_add, 'sample': old_dcs + dcs_add},\n",
    "        'optical_distortion': {'radial': {'coefficients': [old_odx + opt_x, old_ody + opt_y, old_odz + opt_z]}},\n",
    "        'center_ephemeris_time': old_ect + ect_add\n",
    "    }\n",
    "\n",
    "    # Modify Values in Dictionary\n",
    "    for key,value in new_values.items(): \n",
    "        isd_dict_mod[key] = new_values[key]\n",
    "\n",
    "    # Write ISD to file\n",
    "    with open(isd_file_mod, 'w') as json_file:\n",
    "        json.dump(isd_dict_mod, json_file, indent=4)\n",
    "\n",
    "    # Create Camera Model\n",
    "    camera = csm.create_csm(isd_file_mod)\n",
    "\n",
    "    # Get the footprint using the model\n",
    "    boundary_mod = csm.generate_boundary((isd_dict_mod[\"image_lines\"], isd_dict_mod[\"image_samples\"]))\n",
    "    lons_mod, lats_mod, alts_mod = csm.generate_latlon_boundary(camera, boundary_mod)\n",
    "\n",
    "    # Plot it\n",
    "    plot_footprint_comparison((lons, lats, \"Original\"),(lons_mod, lats_mod, \"Modified\"), [7,3], isd_dict, isd_dict_mod)"
   ]
  },
  {
   "cell_type": "markdown",
   "metadata": {},
   "source": [
    ".\n",
    "\n",
    ".\n",
    "\n",
    ".\n",
    "\n",
    ".\n",
    "\n",
    ".\n",
    "\n",
    ".\n",
    "\n",
    ".\n",
    "\n",
    ".\n",
    "\n",
    ".\n",
    "\n",
    ".\n",
    "\n",
    ".\n",
    "\n",
    ".\n",
    "\n",
    ".\n",
    "\n",
    ".\n",
    "\n",
    ".\n",
    "\n",
    ".\n",
    "\n",
    ".\n",
    "\n",
    "(This empty space below helps the above widget display with less jumping/flickering.)"
   ]
  }
 ],
 "metadata": {
  "kernelspec": {
   "display_name": "csm-sandbox",
   "language": "python",
   "name": "python3"
  },
  "language_info": {
   "codemirror_mode": {
    "name": "ipython",
    "version": 3
   },
   "file_extension": ".py",
   "mimetype": "text/x-python",
   "name": "python",
   "nbconvert_exporter": "python",
   "pygments_lexer": "ipython3",
   "version": "3.12.11"
  }
 },
 "nbformat": 4,
 "nbformat_minor": 4
}
