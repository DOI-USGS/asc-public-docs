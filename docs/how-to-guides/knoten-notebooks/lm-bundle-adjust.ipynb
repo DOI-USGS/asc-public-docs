{
 "cells": [
  {
   "cell_type": "markdown",
   "metadata": {},
   "source": [
    "## Imports"
   ]
  },
  {
   "cell_type": "code",
   "execution_count": 1,
   "metadata": {},
   "outputs": [],
   "source": [
    "import os\n",
    "\n",
    "from plio.io import io_controlnetwork\n",
    "from knoten.csm import create_csm\n",
    "from scipy import sparse\n",
    "import ale\n",
    "import csmapi\n",
    "import numpy as np\n",
    "\n",
    "import matplotlib.pyplot as plt\n",
    "\n",
    "from knoten.bundle import *"
   ]
  },
  {
   "cell_type": "markdown",
   "metadata": {},
   "source": [
    "## Load Network and Generate Sensors"
   ]
  },
  {
   "cell_type": "code",
   "execution_count": null,
   "metadata": {},
   "outputs": [],
   "source": [
    "cubes = '/scratch/csm2020/data/cubes2.lis'\n",
    "sensors = generate_sensors(cubes)\n",
    "\n",
    "network = '/scratch/csm2020/data/hand_dense.net'\n",
    "cnet = io_controlnetwork.from_isis(network)\n",
    "cnet = compute_apriori_ground_points(cnet, sensors)"
   ]
  },
  {
   "cell_type": "markdown",
   "metadata": {},
   "source": [
    "## Determine Which Sensor Parameters to Solve For"
   ]
  },
  {
   "cell_type": "code",
   "execution_count": null,
   "metadata": {},
   "outputs": [],
   "source": [
    "all_parameters = {sn: get_sensor_parameters(sensor) for sn, sensor in sensors.items()}\n",
    "for sn, parameters in all_parameters.items():\n",
    "    print(f\"Image: {sn}\")\n",
    "    for param in parameters:\n",
    "        print(f\"  {param.name} | {param.index} | {param.value}\")"
   ]
  },
  {
   "cell_type": "markdown",
   "metadata": {},
   "source": [
    "## Solve for angles and angular rates"
   ]
  },
  {
   "cell_type": "code",
   "execution_count": null,
   "metadata": {},
   "outputs": [],
   "source": [
    "solve_parameters = {sn: params[6:12] for sn, params in all_parameters.items()}"
   ]
  },
  {
   "cell_type": "markdown",
   "metadata": {},
   "source": [
    "## Compute the Column Indices for Parameters"
   ]
  },
  {
   "cell_type": "code",
   "execution_count": null,
   "metadata": {},
   "outputs": [],
   "source": [
    "column_dict = compute_coefficient_columns(cnet, sensors, solve_parameters)"
   ]
  },
  {
   "cell_type": "markdown",
   "metadata": {
    "collapsed": true
   },
   "source": [
    "## Compute the Weight Matrix\n",
    "#### According to the weighted Normal equation (J.TWJ), W needs to be a square matrix the size of (# of measures)x2. So it is the weight of the observations. In ISIS, the weight of the observations are an inverted function of the size of the pixels on the focal plane (resolution). However, in csm we do not have access to that information. \n",
    "#### For the time being, since we are working exclusively with CTX images we are going to set the weight matrix equal to the identity matrix -> all observations have the same weight."
   ]
  },
  {
   "cell_type": "code",
   "execution_count": null,
   "metadata": {},
   "outputs": [],
   "source": [
    "num_observations = 2 * len(cnet)\n",
    "W_observations = np.eye(num_observations) # this is a place holder until Jesse adds his calculations\n",
    "W_params = compute_parameter_weights(cnet, sensors, solve_parameters, column_dict)"
   ]
  },
  {
   "cell_type": "markdown",
   "metadata": {},
   "source": [
    "## Whole (Dense) Bundle Process in a loop with LM terms\n",
    "\n",
    "The next three cells show examples of the bundle adjustment loop running with Levenberg-Marquat added.\n",
    "\n",
    "This example shows the first heuristic for initializing $\\lambda$, the weighting parameter, from Numerical Recipes in C++\n",
    "\n",
    "NumericalRecipes in C++ recommended starting with $\\lambda$ = 0.01, and then increasing or decreasing this value by an order of magnitude each iteration depending on whether the last iteration increased or decreased \n",
    "$\\sigma_0$.\n",
    "\n",
    "Step sizes will get smaller as the target is approached."
   ]
  },
  {
   "cell_type": "markdown",
   "metadata": {},
   "source": [
    "### LM using Numerical Recipies's heuristic\n",
    "\n",
    "$\\lambda = 0.01$ to start out, then increased or decreased by an order of magnitude each step. \n",
    "\n",
    "`damping` is used as the variable for $\\lambda$, since in python `lambda` is a reserved word."
   ]
  },
  {
   "cell_type": "code",
   "execution_count": null,
   "metadata": {},
   "outputs": [],
   "source": [
    "## sensors = generate_sensors(cubes) # generate sensors\n",
    "cnet = io_controlnetwork.from_isis(network) # load in network\n",
    "cnet = compute_apriori_ground_points(cnet, sensors) # calculate ground points\n",
    "\n",
    "### INPUTS ###\n",
    "all_parameters = {sn: get_sensor_parameters(sensor) for sn, sensor in sensors.items()} #all parameters\n",
    "parameters = {sn: parameter[6:12] for sn, parameter in all_parameters.items()} #just solving for camera angles and angle velocity\n",
    "##############\n",
    "\n",
    "column_dict = compute_coefficient_columns(cnet, sensors, parameters)\n",
    "num_parameters = max(col_range[1] for col_range in column_dict.values())\n",
    "num_observations = 2 * len(cnet)\n",
    "W_observations = np.eye(num_observations)\n",
    "W_params = compute_parameter_weights(cnet, sensors, parameters, column_dict)\n",
    "\n",
    "iteration = 0\n",
    "V = compute_residuals(cnet, sensors)\n",
    "dX = np.zeros(W_params.shape[0]) #initialize for sigma calculatio\n",
    "sigma0 = compute_sigma(V, dX, W_params, W_observations)\n",
    "print(f'iteration {iteration}: sigma0 = {sigma0}\\n')\n",
    "\n",
    "max_iterations = 100\n",
    "tol = 1e-10\n",
    "total_correction = np.zeros(num_parameters)\n",
    "damping = 0.01\n",
    "for i in range(max_iterations):   \n",
    "    iteration += 1\n",
    "    old_sigma0 = sigma0\n",
    "    \n",
    "    J = compute_jacobian(cnet, sensors, parameters, column_dict)    \n",
    "#    C = J.T.dot(W_observations).dot(V) - damping*np.identity(W_params.shape[0]).dot(total_correction) - W_params.dot(total_correction)\n",
    "    C = J.T.dot(W_observations).dot(V) - W_params.dot(total_correction)\n",
    "    N = J.T.dot(W_observations).dot(J) + damping*np.identity(W_params.shape[0]) + W_params\n",
    "    dX = np.linalg.inv(N).dot(C) # calculate change in camera parameters and ground points\n",
    "    \n",
    "    total_correction += dX\n",
    "    print(f'corrections: mean = {dX.mean()} min = {dX.min()} max = {dX.max()}')\n",
    "    \n",
    "    update_parameters(sensors, parameters, cnet, dX, column_dict)\n",
    "    \n",
    "    V = compute_residuals(cnet, sensors)\n",
    "    sigma0 = compute_sigma(V, dX, W_params, W_observations)\n",
    "    if (sigma0 < old_sigma0):\n",
    "        damping*=0.1\n",
    "    else:\n",
    "        damping*=10\n",
    "        \n",
    "    print(f'iteration {iteration}: sigma0 = {sigma0}\\n')\n",
    "    \n",
    "    if (abs(sigma0 - old_sigma0) < tol):\n",
    "        print(f'change in sigma0 of {abs(sigma0 - old_sigma0)} converged!')\n",
    "        break\n",
    "    "
   ]
  },
  {
   "cell_type": "markdown",
   "metadata": {},
   "source": [
    "### sba/levmar's heuristic\n",
    "\n",
    "$\\lambda$ initially set to a user supplied value (or default = 0.001) * the max value in $J^{T}J$\n",
    "\n",
    "Updates either:\n",
    "\n",
    "(1) $\\lambda = max(1/3, 1-(2\\rho -1)^3) , \\nu = 2.0$\n",
    "\n",
    "(2) $\\lambda = \\lambda\\nu, \\nu = 2.0\\nu$\n",
    "\n",
    "See: http://users.ics.forth.gr/~argyros/mypapers/2004_08_tr340_forth_sba.pdf"
   ]
  },
  {
   "cell_type": "code",
   "execution_count": null,
   "metadata": {},
   "outputs": [],
   "source": [
    "## sensors = generate_sensors(cubes) # generate sensors\n",
    "cnet = io_controlnetwork.from_isis(network) # load in network\n",
    "cnet = compute_apriori_ground_points(cnet, sensors) # calculate ground points\n",
    "\n",
    "### INPUTS ###\n",
    "all_parameters = {sn: get_sensor_parameters(sensor) for sn, sensor in sensors.items()} #all parameters\n",
    "parameters = {sn: parameter[6:12] for sn, parameter in all_parameters.items()} #just solving for camera angles and angle velocity\n",
    "##############\n",
    "\n",
    "column_dict = compute_coefficient_columns(cnet, sensors, parameters)\n",
    "num_parameters = max(col_range[1] for col_range in column_dict.values())\n",
    "num_observations = 2 * len(cnet)\n",
    "W_observations = np.eye(num_observations)\n",
    "W_params = compute_parameter_weights(cnet, sensors, parameters, column_dict)\n",
    "\n",
    "iteration = 0\n",
    "V = compute_residuals(cnet, sensors)\n",
    "dX = np.zeros(W_params.shape[0]) #initialize for sigma calculatio\n",
    "sigma0 = compute_sigma(V, dX, W_params, W_observations)\n",
    "print(f'iteration {iteration}: sigma0 = {sigma0}\\n')\n",
    "\n",
    "max_iterations = 25\n",
    "tol = 1e-10\n",
    "total_correction = np.zeros(num_parameters)\n",
    "damping = 0.001\n",
    "nu = 2.0\n",
    "for i in range(max_iterations):   \n",
    "    iteration += 1\n",
    "    old_sigma0 = sigma0\n",
    "    \n",
    "    J = compute_jacobian(cnet, sensors, parameters, column_dict)\n",
    "    if i==0:\n",
    "        damping *= np.max(J.T.dot(J))\n",
    "    \n",
    "#    C = J.T.dot(W_observations).dot(V) - damping*np.identity(W_params.shape[0]).dot(total_correction) - W_params.dot(total_correction)\n",
    "    C = J.T.dot(W_observations).dot(V) - W_params.dot(total_correction)\n",
    "    N = J.T.dot(W_observations).dot(J) + damping*np.identity(W_params.shape[0]) + W_params\n",
    "    dX = np.linalg.inv(N).dot(C) # calculate change in camera parameters and ground points\n",
    "    \n",
    "    total_correction += dX\n",
    "    print(f'corrections: mean = {dX.mean()} min = {dX.min()} max = {dX.max()}')\n",
    "    \n",
    "    update_parameters(sensors, parameters, cnet, dX, column_dict)\n",
    "    \n",
    "    old_V = V\n",
    "    V = compute_residuals(cnet, sensors)\n",
    "    sigma0 = compute_sigma(V, dX, W_params, W_observations)\n",
    "    if (sigma0 < old_sigma0):\n",
    "        damping = max(1.0/3.0, (np.linalg.norm(old_V)**2 - np.linalg.norm(V)**2)/(dX.T.dot(damping*dX + C)))\n",
    "        nu = 2\n",
    "    else:\n",
    "        damping = damping * nu\n",
    "        nu = 2 * nu\n",
    "\n",
    "    print(f'iteration {iteration}: sigma0 = {sigma0}\\n')\n",
    "    \n",
    "    if (abs(sigma0 - old_sigma0) < tol):\n",
    "        print(f'change in sigma0 of {abs(sigma0 - old_sigma0)} converged!')\n",
    "        break\n",
    "    "
   ]
  }
 ],
 "metadata": {
  "kernelspec": {
   "display_name": "Python 3",
   "language": "python",
   "name": "python3"
  },
  "language_info": {
   "codemirror_mode": {
    "name": "ipython",
    "version": 3
   },
   "file_extension": ".py",
   "mimetype": "text/x-python",
   "name": "python",
   "nbconvert_exporter": "python",
   "pygments_lexer": "ipython3",
   "version": "3.12.4"
  }
 },
 "nbformat": 4,
 "nbformat_minor": 2
}
